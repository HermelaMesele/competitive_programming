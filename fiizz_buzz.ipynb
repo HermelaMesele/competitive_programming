{
 "cells": [
  {
   "cell_type": "code",
   "execution_count": 3,
   "id": "f7a3ac29",
   "metadata": {},
   "outputs": [],
   "source": [
    "class Solution:\n",
    "    def fizzBuzz(self, n: int):\n",
    "        ans = []\n",
    "        for i in range(1,n+1):\n",
    "            if i%3 == 0 and i%5 == 0:\n",
    "                ans.append(\"FizzBuzz\")\n",
    "            elif i%3 == 0:\n",
    "                ans.append(\"Fizz\")\n",
    "            elif i%5 == 0:\n",
    "                ans.append(\"Buzz\")\n",
    "            else:\n",
    "                ans.append(str(i))\n",
    "        return ans"
   ]
  },
  {
   "cell_type": "code",
   "execution_count": null,
   "id": "c7630895",
   "metadata": {},
   "outputs": [],
   "source": []
  }
 ],
 "metadata": {
  "kernelspec": {
   "display_name": "Python 3",
   "language": "python",
   "name": "python3"
  },
  "language_info": {
   "codemirror_mode": {
    "name": "ipython",
    "version": 3
   },
   "file_extension": ".py",
   "mimetype": "text/x-python",
   "name": "python",
   "nbconvert_exporter": "python",
   "pygments_lexer": "ipython3",
   "version": "3.8.8"
  }
 },
 "nbformat": 4,
 "nbformat_minor": 5
}
